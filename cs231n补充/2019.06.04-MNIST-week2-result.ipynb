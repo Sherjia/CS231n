{
 "cells": [
  {
   "cell_type": "markdown",
   "metadata": {},
   "source": [
    "# 初识卷积神经网络——MNIST\n",
    "## 1.课前碎碎念\n",
    "MNIST--手写数字识别被很多人称作是深度学习的“Hello World！”\n",
    "MNIST确实是一个简洁又简单的数据集，也是第一个深度学习算法解决的实际问题，\n",
    "MNIST数据集很小，很适合教学实用，同时资源占用较少，没有GPU也能够进行训练。\n",
    "\n",
    "我比较不喜欢“Hello World！”这个比喻，想要完全掌握MNIST，所需要的知识远不是敲进去一行代码就可以的。\n",
    "实际上GAN最早被提出时，也是在MNIST数据集上做的验证。\n",
    "\n",
    "在我有限的知识背景下，中心损失函数也是使用MNIST进行验证的。\n",
    "\n",
    "——江小河  课前碎碎念"
   ]
  },
  {
   "cell_type": "markdown",
   "metadata": {},
   "source": [
    "## 2.使用Keras编写Lenet\n",
    "首先我们导入算法框架工具包"
   ]
  },
  {
   "cell_type": "code",
   "execution_count": 1,
   "metadata": {},
   "outputs": [],
   "source": [
    "import tensorflow.keras as K\n",
    "# import keras as K\n",
    "import numpy as np\n",
    "import matplotlib.pyplot as plt\n",
    "%matplotlib inline"
   ]
  },
  {
   "cell_type": "markdown",
   "metadata": {},
   "source": [
    "我这里首先使用tensorflow后端的Keras进行讲解，注意这里我使用tensorflow.keras来引入keras。这是因为至少从1.9.0版本以后，tensorflow已经讲keras默认继承安装在了tensorflow包中。很多keras的教程会要求分别安装tensorflow和keras，通过import keras来导入。实际上没有任何区别（目前没有发现任何区别）"
   ]
  },
  {
   "cell_type": "code",
   "execution_count": 2,
   "metadata": {},
   "outputs": [],
   "source": [
    "from tensorflow.keras.datasets import mnist\n",
    "(x_train, y_train), (x_test, y_test) = mnist.load_data()"
   ]
  },
  {
   "cell_type": "code",
   "execution_count": 3,
   "metadata": {},
   "outputs": [
    {
     "name": "stdout",
     "output_type": "stream",
     "text": [
      "x_train`s shape is (60000, 28, 28)\n",
      "y_train`s shape is (60000,)\n",
      "x_test`s shape is (10000, 28, 28)\n",
      "y_test`s shape is (10000,)\n"
     ]
    }
   ],
   "source": [
    "def check_dimension(data, data_name):\n",
    "    assert type(data) is np.ndarray\n",
    "    print(data_name+\"`s shape is \" + str(data.shape))\n",
    "\n",
    "check_dimension(x_train, \"x_train\")\n",
    "check_dimension(y_train, \"y_train\")\n",
    "check_dimension(x_test, \"x_test\")\n",
    "check_dimension(y_test, \"y_test\")"
   ]
  },
  {
   "cell_type": "code",
   "execution_count": 4,
   "metadata": {},
   "outputs": [
    {
     "name": "stdout",
     "output_type": "stream",
     "text": [
      "Num 2251 is an image for 2.\n",
      "Num 7334 is an image for 7.\n"
     ]
    },
    {
     "data": {
      "image/png": "[encoded data removed]",
      "text/plain": [
       "<Figure size 432x288 with 1 Axes>"
      ]
     },
     "metadata": {
      "needs_background": "light"
     },
     "output_type": "display_data"
    },
    {
     "data": {
      "image/png": "[encoded data removed]",
      "text/plain": [
       "<Figure size 432x288 with 1 Axes>"
      ]
     },
     "metadata": {
      "needs_background": "light"
     },
     "output_type": "display_data"
    }
   ],
   "source": [
    "def check_example(x, y, number=None):\n",
    "    if number == None:\n",
    "        number = np.random.randint(x.shape[0])\n",
    "    print(\"Num {} is an image for {}.\".format(number, y[number]))\n",
    "    plt.figure()\n",
    "    plt.imshow(x[number])\n",
    "\n",
    "check_example(x_train, y_train)\n",
    "check_example(x_test, y_test)"
   ]
  },
  {
   "cell_type": "code",
   "execution_count": 5,
   "metadata": {},
   "outputs": [],
   "source": [
    "from tensorflow.keras.backend import one_hot\n",
    "y_train = K.backend.eval(one_hot(y_train, 10))\n",
    "y_test= K.backend.eval(one_hot(y_test, 10))"
   ]
  },
  {
   "cell_type": "code",
   "execution_count": 6,
   "metadata": {},
   "outputs": [
    {
     "name": "stdout",
     "output_type": "stream",
     "text": [
      "x_train`s shape is (60000, 28, 28)\n",
      "y_train`s shape is (60000, 10)\n",
      "x_test`s shape is (10000, 28, 28)\n",
      "y_test`s shape is (10000, 10)\n"
     ]
    }
   ],
   "source": [
    "check_dimension(x_train, \"x_train\")\n",
    "check_dimension(y_train, \"y_train\")\n",
    "check_dimension(x_test, \"x_test\")\n",
    "check_dimension(y_test, \"y_test\")"
   ]
  },
  {
   "cell_type": "code",
   "execution_count": 7,
   "metadata": {},
   "outputs": [],
   "source": [
    "# from keras.models import Sequential\n",
    "# from keras.layers import Dense, Activation\n",
    "from tensorflow.keras.models import Sequential\n",
    "from tensorflow.keras.layers import Dense, Activation\n",
    "from tensorflow.keras.layers import Input, Dense, Flatten, Conv2D, MaxPooling2D"
   ]
  },
  {
   "cell_type": "markdown",
   "metadata": {},
   "source": [
    "导入Lenet模型图，作为创建网络的参考"
   ]
  },
  {
   "cell_type": "markdown",
   "metadata": {},
   "source": [
    "![Lenet](https://timgsa.baidu.com/timg?image&quality=80&size=b9999_10000&sec=1559582032465&di=4a4061c5062506fc7a4a4d605d2e2443&imgtype=0&src=http%3A%2F%2Fmmbiz.qpic.cn%2Fmmbiz_png%2F4lN1XOZshffJhuEYgHmB6aNaASYT9xjqANHsYIBsibQdynicOGUkqgNHBMbX0LHLhCiaswHvE0IltaZFIPWNJia9Yw%2F640%3Fwx_fmt%3Dpng)"
   ]
  },
  {
   "cell_type": "code",
   "execution_count": 8,
   "metadata": {},
   "outputs": [],
   "source": [
    "model = Sequential()\n",
    "model.add(Conv2D(6, kernel_size=(5, 5), padding=\"same\", activation=\"relu\", input_shape=(28,28,1)))\n",
    "model.add(MaxPooling2D((2,2)))\n",
    "model.add(Conv2D(16, kernel_size=(5, 5), padding=\"valid\", activation=\"relu\"))\n",
    "model.add(MaxPooling2D((2,2)))\n",
    "model.add(Flatten())\n",
    "model.add(Dense(120, activation=\"relu\"))\n",
    "model.add(Dense(84, activation=\"relu\"))\n",
    "model.add(Dense(10, activation=\"softmax\"))"
   ]
  },
  {
   "cell_type": "markdown",
   "metadata": {},
   "source": [
    "查看网络摘要，和Lenet进行对比"
   ]
  },
  {
   "cell_type": "code",
   "execution_count": 9,
   "metadata": {},
   "outputs": [
    {
     "name": "stdout",
     "output_type": "stream",
     "text": [
      "_________________________________________________________________\n",
      "Layer (type)                 Output Shape              Param #   \n",
      "=================================================================\n",
      "conv2d (Conv2D)              (None, 28, 28, 6)         156       \n",
      "_________________________________________________________________\n",
      "max_pooling2d (MaxPooling2D) (None, 14, 14, 6)         0         \n",
      "_________________________________________________________________\n",
      "conv2d_1 (Conv2D)            (None, 10, 10, 16)        2416      \n",
      "_________________________________________________________________\n",
      "max_pooling2d_1 (MaxPooling2 (None, 5, 5, 16)          0         \n",
      "_________________________________________________________________\n",
      "flatten (Flatten)            (None, 400)               0         \n",
      "_________________________________________________________________\n",
      "dense (Dense)                (None, 120)               48120     \n",
      "_________________________________________________________________\n",
      "dense_1 (Dense)              (None, 84)                10164     \n",
      "_________________________________________________________________\n",
      "dense_2 (Dense)              (None, 10)                850       \n",
      "=================================================================\n",
      "Total params: 61,706\n",
      "Trainable params: 61,706\n",
      "Non-trainable params: 0\n",
      "_________________________________________________________________\n"
     ]
    }
   ],
   "source": [
    "model.summary()"
   ]
  },
  {
   "cell_type": "markdown",
   "metadata": {},
   "source": [
    "编译模型（设置优化器，优化参数）"
   ]
  },
  {
   "cell_type": "markdown",
   "metadata": {},
   "source": [
    "## 3.训练模型"
   ]
  },
  {
   "cell_type": "code",
   "execution_count": 10,
   "metadata": {},
   "outputs": [],
   "source": [
    "adam = K.optimizers.Adam(lr=0.0001)\n",
    "model.compile(optimizer=adam, loss='categorical_crossentropy', metrics=['accuracy'])"
   ]
  },
  {
   "cell_type": "markdown",
   "metadata": {},
   "source": [
    "设置mini_batch"
   ]
  },
  {
   "cell_type": "code",
   "execution_count": 11,
   "metadata": {},
   "outputs": [],
   "source": [
    "def gen_mini_batch():\n",
    "    pass\n",
    "#keras 的训练函数可以进行batchsize的设置"
   ]
  },
  {
   "cell_type": "code",
   "execution_count": 12,
   "metadata": {},
   "outputs": [],
   "source": [
    "x_train = K.backend.eval(K.backend.expand_dims(x_train, axis=-1))\n",
    "x_test = K.backend.eval(K.backend.expand_dims(x_test, axis=-1))"
   ]
  },
  {
   "cell_type": "markdown",
   "metadata": {},
   "source": [
    "训练模型"
   ]
  },
  {
   "cell_type": "code",
   "execution_count": 13,
   "metadata": {},
   "outputs": [
    {
     "name": "stdout",
     "output_type": "stream",
     "text": [
      "Epoch 1/10\n",
      "60000/60000 [==============================] - 6s 98us/step - loss: 4.9886 - acc: 0.6310\n",
      "Epoch 2/10\n",
      "60000/60000 [==============================] - 4s 71us/step - loss: 2.8749 - acc: 0.7849\n",
      "Epoch 3/10\n",
      "60000/60000 [==============================] - 4s 71us/step - loss: 1.7014 - acc: 0.8656\n",
      "Epoch 4/10\n",
      "60000/60000 [==============================] - 4s 74us/step - loss: 0.1667 - acc: 0.9530\n",
      "Epoch 5/10\n",
      "60000/60000 [==============================] - 4s 71us/step - loss: 0.1026 - acc: 0.9699\n",
      "Epoch 6/10\n",
      "60000/60000 [==============================] - 4s 71us/step - loss: 0.0773 - acc: 0.9771\n",
      "Epoch 7/10\n",
      "60000/60000 [==============================] - 4s 71us/step - loss: 0.0609 - acc: 0.9809\n",
      "Epoch 8/10\n",
      "60000/60000 [==============================] - 4s 71us/step - loss: 0.0507 - acc: 0.9839\n",
      "Epoch 9/10\n",
      "60000/60000 [==============================] - 4s 71us/step - loss: 0.0390 - acc: 0.9876\n",
      "Epoch 10/10\n",
      "60000/60000 [==============================] - 4s 72us/step - loss: 0.0334 - acc: 0.9895\n"
     ]
    }
   ],
   "source": [
    "history_lenet_0 = model.fit(x_train, y_train, batch_size=64, epochs=10, shuffle=True)"
   ]
  },
  {
   "cell_type": "code",
   "execution_count": 14,
   "metadata": {},
   "outputs": [
    {
     "data": {
      "text/plain": [
       "tensorflow.python.keras.callbacks.History"
      ]
     },
     "execution_count": 14,
     "metadata": {},
     "output_type": "execute_result"
    }
   ],
   "source": [
    "type(history_lenet_0)"
   ]
  },
  {
   "cell_type": "code",
   "execution_count": 15,
   "metadata": {},
   "outputs": [
    {
     "data": {
      "text/plain": [
       "{'acc': [0.63105,\n",
       "  0.7848666666666667,\n",
       "  0.8655666666666667,\n",
       "  0.9530333333333333,\n",
       "  0.9698666666666667,\n",
       "  0.97715,\n",
       "  0.9808666666666667,\n",
       "  0.98385,\n",
       "  0.9875666666666667,\n",
       "  0.9895333333333334],\n",
       " 'loss': [4.9886281859079995,\n",
       "  2.874903715361158,\n",
       "  1.7013616485993068,\n",
       "  0.16671033395106594,\n",
       "  0.10262458098257582,\n",
       "  0.07733857481703162,\n",
       "  0.06088597701191902,\n",
       "  0.05070152205657214,\n",
       "  0.03901577026611194,\n",
       "  0.033391790681891145]}"
      ]
     },
     "execution_count": 15,
     "metadata": {},
     "output_type": "execute_result"
    }
   ],
   "source": [
    "history_lenet_0.history"
   ]
  },
  {
   "cell_type": "code",
   "execution_count": 16,
   "metadata": {},
   "outputs": [
    {
     "data": {
      "text/plain": [
       "[<matplotlib.lines.Line2D at 0x19300ea2320>]"
      ]
     },
     "execution_count": 16,
     "metadata": {},
     "output_type": "execute_result"
    },
    {
     "data": {
      "image/png": "[encoded data removed]",
      "text/plain": [
       "<Figure size 432x288 with 1 Axes>"
      ]
     },
     "metadata": {
      "needs_background": "light"
     },
     "output_type": "display_data"
    }
   ],
   "source": [
    "plt.title(\"history_lenet_0\")\n",
    "plt.plot(history_lenet_0.history['acc'], c='r')\n",
    "plt.plot(history_lenet_0.history['loss'], c='b')"
   ]
  },
  {
   "cell_type": "markdown",
   "metadata": {},
   "source": [
    "## 4.测试模型"
   ]
  },
  {
   "cell_type": "code",
   "execution_count": 17,
   "metadata": {},
   "outputs": [
    {
     "data": {
      "text/plain": [
       "0.978"
      ]
     },
     "execution_count": 17,
     "metadata": {},
     "output_type": "execute_result"
    }
   ],
   "source": [
    "#使用模型在测试集上进行预测，生成结果为numpy.ndarray, shape=(10000, 10)\n",
    "y_test_predict = model.predict(x_test)\n",
    "#使用np.argmax可以求得预测样本标签，e.g. 1,2,3,...9\n",
    "y_label_pre = np.argmax(y_test_predict, axis=-1)\n",
    "#求测试准确度\n",
    "test_acc = np.sum((y_label_pre==np.argmax(y_test, axis=-1)).astype(int))/y_label_pre.shape[0]\n",
    "test_acc"
   ]
  },
  {
   "cell_type": "markdown",
   "metadata": {},
   "source": [
    "** 记住这个数字， 我们要得到比这个更高的结果 **"
   ]
  },
  {
   "cell_type": "markdown",
   "metadata": {},
   "source": [
    "## 5.TODO List"
   ]
  },
  {
   "cell_type": "markdown",
   "metadata": {},
   "source": [
    "### 1.修改网络参数进行测试，争取得到更好的结果。\n",
    "    如：网络深度，卷积核个数，卷积核尺寸，池化尺寸，全连接隐藏层节点数，归一化操作，batchsize，学习率，正则化参数……\n",
    "    （挑学会了的看懂了的改……）\n",
    "### 2.在修改网络之前，手推一遍自己的网络输出尺寸，参数量大小，使用summary函数进行验证。\n",
    "### 3.（选做）扩充版QMNIST数据集\n",
    "    github上推出了扩充版的MNIST数据集，下载并进行测试。\n",
    "    传送门：https://github.com/facebookresearch/qmnist\n",
    "    （可能需要GPU）"
   ]
  },
  {
   "cell_type": "markdown",
   "metadata": {},
   "source": [
    "## 1> 绘制loss曲线"
   ]
  },
  {
   "cell_type": "code",
   "execution_count": 18,
   "metadata": {},
   "outputs": [
    {
     "data": {
      "text/plain": [
       "[<matplotlib.lines.Line2D at 0x19300662a90>]"
      ]
     },
     "execution_count": 18,
     "metadata": {},
     "output_type": "execute_result"
    },
    {
     "data": {
      "image/png": "[encoded data removed]",
      "text/plain": [
       "<Figure size 432x288 with 1 Axes>"
      ]
     },
     "metadata": {
      "needs_background": "light"
     },
     "output_type": "display_data"
    }
   ],
   "source": [
    "plt.title(\"history_lenet_0\")\n",
    "plt.plot(history_lenet_0.history['acc'], c='r')\n",
    "plt.plot(history_lenet_0.history['loss'], c='b')"
   ]
  },
  {
   "cell_type": "markdown",
   "metadata": {},
   "source": [
    "## 2>修改网络结构——使用卷积stride=2代替池化"
   ]
  },
  {
   "cell_type": "code",
   "execution_count": 19,
   "metadata": {},
   "outputs": [
    {
     "name": "stdout",
     "output_type": "stream",
     "text": [
      "_________________________________________________________________\n",
      "Layer (type)                 Output Shape              Param #   \n",
      "=================================================================\n",
      "conv2d_2 (Conv2D)            (None, 14, 14, 6)         156       \n",
      "_________________________________________________________________\n",
      "conv2d_3 (Conv2D)            (None, 5, 5, 16)          2416      \n",
      "_________________________________________________________________\n",
      "flatten_1 (Flatten)          (None, 400)               0         \n",
      "_________________________________________________________________\n",
      "dense_3 (Dense)              (None, 120)               48120     \n",
      "_________________________________________________________________\n",
      "dense_4 (Dense)              (None, 84)                10164     \n",
      "_________________________________________________________________\n",
      "dense_5 (Dense)              (None, 10)                850       \n",
      "=================================================================\n",
      "Total params: 61,706\n",
      "Trainable params: 61,706\n",
      "Non-trainable params: 0\n",
      "_________________________________________________________________\n"
     ]
    }
   ],
   "source": [
    "model_test_1 = Sequential()\n",
    "model_test_1.add(Conv2D(6, kernel_size=(5, 5), padding=\"same\", strides=(2, 2), activation=\"relu\", input_shape=(28,28,1)))\n",
    "\n",
    "model_test_1.add(Conv2D(16, kernel_size=(5, 5), padding=\"valid\", strides=(2, 2), activation=\"relu\"))\n",
    "\n",
    "model_test_1.add(Flatten())\n",
    "model_test_1.add(Dense(120, activation=\"relu\"))\n",
    "model_test_1.add(Dense(84, activation=\"relu\"))\n",
    "model_test_1.add(Dense(10, activation=\"softmax\"))\n",
    "\n",
    "model_test_1.summary()\n",
    "\n",
    "adam = K.optimizers.Adam(lr=0.0001)\n",
    "model_test_1.compile(optimizer=adam, loss='categorical_crossentropy', metrics=['accuracy'])"
   ]
  },
  {
   "cell_type": "code",
   "execution_count": 20,
   "metadata": {},
   "outputs": [
    {
     "name": "stdout",
     "output_type": "stream",
     "text": [
      "Epoch 1/10\n",
      "60000/60000 [==============================] - 5s 81us/step - loss: 3.4846 - acc: 0.6715\n",
      "Epoch 2/10\n",
      "60000/60000 [==============================] - 4s 69us/step - loss: 0.3858 - acc: 0.9062\n",
      "Epoch 3/10\n",
      "60000/60000 [==============================] - 4s 72us/step - loss: 0.2463 - acc: 0.9343\n",
      "Epoch 4/10\n",
      "60000/60000 [==============================] - 4s 69us/step - loss: 0.1800 - acc: 0.9498\n",
      "Epoch 5/10\n",
      "60000/60000 [==============================] - 4s 69us/step - loss: 0.1398 - acc: 0.9602\n",
      "Epoch 6/10\n",
      "60000/60000 [==============================] - 4s 69us/step - loss: 0.1114 - acc: 0.9679\n",
      "Epoch 7/10\n",
      "60000/60000 [==============================] - 4s 69us/step - loss: 0.0912 - acc: 0.9735\n",
      "Epoch 8/10\n",
      "60000/60000 [==============================] - 4s 69us/step - loss: 0.0756 - acc: 0.9773\n",
      "Epoch 9/10\n",
      "60000/60000 [==============================] - 4s 69us/step - loss: 0.0630 - acc: 0.9812\n",
      "Epoch 10/10\n",
      "60000/60000 [==============================] - 4s 69us/step - loss: 0.0521 - acc: 0.9842\n"
     ]
    }
   ],
   "source": [
    "history_model_test_1 = model_test_1.fit(x_train, y_train, batch_size=64, epochs=10, shuffle=True)"
   ]
  },
  {
   "cell_type": "code",
   "execution_count": 34,
   "metadata": {},
   "outputs": [],
   "source": [
    "def test_model(model):  \n",
    "\n",
    "    #使用模型在测试集上进行预测，生成结果为numpy.ndarray, shape=(10000, 10)\n",
    "    y_test_predict = model.predict(x_test)\n",
    "    #使用np.argmax可以求得预测样本标签，e.g. 1,2,3,...9\n",
    "    y_label_pre = np.argmax(y_test_predict, axis=-1)\n",
    "    #求测试准确度\n",
    "    test_acc = np.sum((y_label_pre==np.argmax(y_test, axis=-1)).astype(int))/y_label_pre.shape[0]\n",
    "    return test_acc"
   ]
  },
  {
   "cell_type": "code",
   "execution_count": 35,
   "metadata": {},
   "outputs": [
    {
     "data": {
      "text/plain": [
       "0.9724"
      ]
     },
     "execution_count": 35,
     "metadata": {},
     "output_type": "execute_result"
    }
   ],
   "source": [
    "test_model(model_test_1)"
   ]
  },
  {
   "cell_type": "markdown",
   "metadata": {},
   "source": [
    "** 效果明显不如之前 **"
   ]
  },
  {
   "cell_type": "code",
   "execution_count": 36,
   "metadata": {},
   "outputs": [
    {
     "data": {
      "text/plain": [
       "[<matplotlib.lines.Line2D at 0x2078c014c18>]"
      ]
     },
     "execution_count": 36,
     "metadata": {},
     "output_type": "execute_result"
    },
    {
     "data": {
      "image/png": "[encoded data removed]",
      "text/plain": [
       "<Figure size 432x288 with 1 Axes>"
      ]
     },
     "metadata": {
      "needs_background": "light"
     },
     "output_type": "display_data"
    }
   ],
   "source": [
    "plt.title(\"history_model_test_1\")\n",
    "plt.plot(history_model_test_1.history['acc'], c='r')\n",
    "plt.plot(history_model_test_1.history['loss'], c='b')"
   ]
  },
  {
   "cell_type": "markdown",
   "metadata": {},
   "source": [
    "## 3>filter=3,4的池化"
   ]
  },
  {
   "cell_type": "code",
   "execution_count": 45,
   "metadata": {},
   "outputs": [
    {
     "name": "stdout",
     "output_type": "stream",
     "text": [
      "_________________________________________________________________\n",
      "Layer (type)                 Output Shape              Param #   \n",
      "=================================================================\n",
      "conv2d_14 (Conv2D)           (None, 28, 28, 6)         156       \n",
      "_________________________________________________________________\n",
      "max_pooling2d_9 (MaxPooling2 (None, 14, 14, 6)         0         \n",
      "_________________________________________________________________\n",
      "conv2d_15 (Conv2D)           (None, 10, 10, 16)        2416      \n",
      "_________________________________________________________________\n",
      "max_pooling2d_10 (MaxPooling (None, 5, 5, 16)          0         \n",
      "_________________________________________________________________\n",
      "flatten_6 (Flatten)          (None, 400)               0         \n",
      "_________________________________________________________________\n",
      "dense_18 (Dense)             (None, 120)               48120     \n",
      "_________________________________________________________________\n",
      "dense_19 (Dense)             (None, 84)                10164     \n",
      "_________________________________________________________________\n",
      "dense_20 (Dense)             (None, 10)                850       \n",
      "=================================================================\n",
      "Total params: 61,706\n",
      "Trainable params: 61,706\n",
      "Non-trainable params: 0\n",
      "_________________________________________________________________\n",
      "Epoch 1/10\n",
      "60000/60000 [==============================] - 5s 85us/step - loss: 7.4703 - acc: 0.5036\n",
      "Epoch 2/10\n",
      "60000/60000 [==============================] - 4s 72us/step - loss: 2.4698 - acc: 0.8050\n",
      "Epoch 3/10\n",
      "60000/60000 [==============================] - 4s 73us/step - loss: 0.3807 - acc: 0.9401\n",
      "Epoch 4/10\n",
      "60000/60000 [==============================] - 4s 72us/step - loss: 0.2612 - acc: 0.9524\n",
      "Epoch 5/10\n",
      "60000/60000 [==============================] - 4s 73us/step - loss: 0.1995 - acc: 0.9596\n",
      "Epoch 6/10\n",
      "60000/60000 [==============================] - 4s 72us/step - loss: 0.1550 - acc: 0.9663\n",
      "Epoch 7/10\n",
      "60000/60000 [==============================] - 4s 73us/step - loss: 0.1284 - acc: 0.9700\n",
      "Epoch 8/10\n",
      "60000/60000 [==============================] - 4s 74us/step - loss: 0.1046 - acc: 0.9735\n",
      "Epoch 9/10\n",
      "60000/60000 [==============================] - 4s 73us/step - loss: 0.0882 - acc: 0.9767\n",
      "Epoch 10/10\n",
      "60000/60000 [==============================] - 4s 73us/step - loss: 0.0742 - acc: 0.9797\n"
     ]
    }
   ],
   "source": [
    "model_test_2 = Sequential()\n",
    "model_test_2.add(Conv2D(6, kernel_size=(5, 5), padding=\"same\", activation=\"relu\", input_shape=(28,28,1)))\n",
    "model_test_2.add(MaxPooling2D(pool_size=(3, 3), strides=(2, 2), padding='same'))\n",
    "model_test_2.add(Conv2D(16, kernel_size=(5, 5), padding=\"valid\", activation=\"relu\"))\n",
    "model_test_2.add(MaxPooling2D(pool_size=(3, 3), strides=(2, 2), padding='same'))\n",
    "model_test_2.add(Flatten())\n",
    "model_test_2.add(Dense(120, activation=\"relu\"))\n",
    "model_test_2.add(Dense(84, activation=\"relu\"))\n",
    "model_test_2.add(Dense(10, activation=\"softmax\"))\n",
    "\n",
    "model_test_2.summary()\n",
    "\n",
    "adam = K.optimizers.Adam(lr=0.0001)\n",
    "model_test_2.compile(optimizer=adam, loss='categorical_crossentropy', metrics=['accuracy'])\n",
    "\n",
    "history_model_test_2 = model_test_2.fit(x_train, y_train, batch_size=64, epochs=10, shuffle=True)"
   ]
  },
  {
   "cell_type": "code",
   "execution_count": 46,
   "metadata": {},
   "outputs": [
    {
     "name": "stdout",
     "output_type": "stream",
     "text": [
      "0.9699\n"
     ]
    },
    {
     "data": {
      "text/plain": [
       "[<matplotlib.lines.Line2D at 0x209f3d2a550>]"
      ]
     },
     "execution_count": 46,
     "metadata": {},
     "output_type": "execute_result"
    },
    {
     "data": {
      "image/png": "[encoded data removed]",
      "text/plain": [
       "<Figure size 432x288 with 1 Axes>"
      ]
     },
     "metadata": {
      "needs_background": "light"
     },
     "output_type": "display_data"
    }
   ],
   "source": [
    "print(test_model(model_test_2))\n",
    "plt.title(\"history_model_test_2\")\n",
    "plt.plot(history_model_test_2.history['acc'], c='r')\n",
    "plt.plot(history_model_test_2.history['loss'], c='b')"
   ]
  },
  {
   "cell_type": "markdown",
   "metadata": {},
   "source": [
    "** 更差一些 **"
   ]
  },
  {
   "cell_type": "code",
   "execution_count": 47,
   "metadata": {},
   "outputs": [
    {
     "name": "stdout",
     "output_type": "stream",
     "text": [
      "_________________________________________________________________\n",
      "Layer (type)                 Output Shape              Param #   \n",
      "=================================================================\n",
      "conv2d_16 (Conv2D)           (None, 28, 28, 6)         156       \n",
      "_________________________________________________________________\n",
      "max_pooling2d_11 (MaxPooling (None, 14, 14, 6)         0         \n",
      "_________________________________________________________________\n",
      "conv2d_17 (Conv2D)           (None, 10, 10, 16)        2416      \n",
      "_________________________________________________________________\n",
      "max_pooling2d_12 (MaxPooling (None, 5, 5, 16)          0         \n",
      "_________________________________________________________________\n",
      "flatten_7 (Flatten)          (None, 400)               0         \n",
      "_________________________________________________________________\n",
      "dense_21 (Dense)             (None, 120)               48120     \n",
      "_________________________________________________________________\n",
      "dense_22 (Dense)             (None, 84)                10164     \n",
      "_________________________________________________________________\n",
      "dense_23 (Dense)             (None, 10)                850       \n",
      "=================================================================\n",
      "Total params: 61,706\n",
      "Trainable params: 61,706\n",
      "Non-trainable params: 0\n",
      "_________________________________________________________________\n",
      "Epoch 1/10\n",
      "60000/60000 [==============================] - 5s 86us/step - loss: 7.1272 - acc: 0.5213\n",
      "Epoch 2/10\n",
      "60000/60000 [==============================] - 4s 74us/step - loss: 2.6191 - acc: 0.7954\n",
      "Epoch 3/10\n",
      "60000/60000 [==============================] - 4s 72us/step - loss: 1.9482 - acc: 0.8479\n",
      "Epoch 4/10\n",
      "60000/60000 [==============================] - 4s 74us/step - loss: 1.8603 - acc: 0.8596\n",
      "Epoch 5/10\n",
      "60000/60000 [==============================] - 4s 75us/step - loss: 1.8179 - acc: 0.8665\n",
      "Epoch 6/10\n",
      "60000/60000 [==============================] - 4s 73us/step - loss: 1.6824 - acc: 0.8746\n",
      "Epoch 7/10\n",
      "60000/60000 [==============================] - 4s 73us/step - loss: 0.1636 - acc: 0.9631\n",
      "Epoch 8/10\n",
      "60000/60000 [==============================] - 4s 73us/step - loss: 0.1093 - acc: 0.9732\n",
      "Epoch 9/10\n",
      "60000/60000 [==============================] - 4s 72us/step - loss: 0.0881 - acc: 0.9765\n",
      "Epoch 10/10\n",
      "60000/60000 [==============================] - 4s 73us/step - loss: 0.0710 - acc: 0.9803\n"
     ]
    }
   ],
   "source": [
    "model_test_3 = Sequential()\n",
    "model_test_3.add(Conv2D(6, kernel_size=(5, 5), padding=\"same\", activation=\"relu\", input_shape=(28,28,1)))\n",
    "model_test_3.add(MaxPooling2D(pool_size=(4, 4), strides=(2, 2), padding='same'))\n",
    "model_test_3.add(Conv2D(16, kernel_size=(5, 5), padding=\"valid\", activation=\"relu\"))\n",
    "model_test_3.add(MaxPooling2D(pool_size=(4, 4), strides=(2, 2), padding='same'))\n",
    "model_test_3.add(Flatten())\n",
    "model_test_3.add(Dense(120, activation=\"relu\"))\n",
    "model_test_3.add(Dense(84, activation=\"relu\"))\n",
    "model_test_3.add(Dense(10, activation=\"softmax\"))\n",
    "\n",
    "model_test_3.summary()\n",
    "\n",
    "adam = K.optimizers.Adam(lr=0.0001)\n",
    "model_test_3.compile(optimizer=adam, loss='categorical_crossentropy', metrics=['accuracy'])\n",
    "\n",
    "history_model_test_3 = model_test_3.fit(x_train, y_train, batch_size=64, epochs=10, shuffle=True)"
   ]
  },
  {
   "cell_type": "code",
   "execution_count": 49,
   "metadata": {},
   "outputs": [
    {
     "name": "stdout",
     "output_type": "stream",
     "text": [
      "0.976\n"
     ]
    },
    {
     "data": {
      "text/plain": [
       "[<matplotlib.lines.Line2D at 0x209f4533668>]"
      ]
     },
     "execution_count": 49,
     "metadata": {},
     "output_type": "execute_result"
    },
    {
     "data": {
      "image/png": "[encoded data removed]",
      "text/plain": [
       "<Figure size 432x288 with 1 Axes>"
      ]
     },
     "metadata": {
      "needs_background": "light"
     },
     "output_type": "display_data"
    }
   ],
   "source": [
    "print(test_model(model_test_3))\n",
    "plt.title(\"history_model_test_3\")\n",
    "plt.plot(history_model_test_3.history['acc'], c='r')\n",
    "plt.plot(history_model_test_3.history['loss'], c='b')"
   ]
  },
  {
   "cell_type": "markdown",
   "metadata": {},
   "source": [
    "### 分析：\n",
    "较大的池化视野对于Lenet有副作用，可能是Lenet输入特征图尺寸较小，感受野变大后图像特征互相干扰"
   ]
  },
  {
   "cell_type": "markdown",
   "metadata": {},
   "source": [
    "## 4>修改网络结构——提升性能"
   ]
  },
  {
   "cell_type": "code",
   "execution_count": 54,
   "metadata": {},
   "outputs": [
    {
     "name": "stdout",
     "output_type": "stream",
     "text": [
      "_________________________________________________________________\n",
      "Layer (type)                 Output Shape              Param #   \n",
      "=================================================================\n",
      "conv2d_26 (Conv2D)           (None, 28, 28, 12)        120       \n",
      "_________________________________________________________________\n",
      "max_pooling2d_21 (MaxPooling (None, 14, 14, 12)        0         \n",
      "_________________________________________________________________\n",
      "conv2d_27 (Conv2D)           (None, 14, 14, 32)        3488      \n",
      "_________________________________________________________________\n",
      "max_pooling2d_22 (MaxPooling (None, 7, 7, 32)          0         \n",
      "_________________________________________________________________\n",
      "conv2d_28 (Conv2D)           (None, 7, 7, 32)          9248      \n",
      "_________________________________________________________________\n",
      "flatten_12 (Flatten)         (None, 1568)              0         \n",
      "_________________________________________________________________\n",
      "dense_36 (Dense)             (None, 120)               188280    \n",
      "_________________________________________________________________\n",
      "dense_37 (Dense)             (None, 84)                10164     \n",
      "_________________________________________________________________\n",
      "dense_38 (Dense)             (None, 10)                850       \n",
      "=================================================================\n",
      "Total params: 212,150\n",
      "Trainable params: 212,150\n",
      "Non-trainable params: 0\n",
      "_________________________________________________________________\n",
      "Epoch 1/10\n",
      "60000/60000 [==============================] - 6s 99us/step - loss: 2.2557 - acc: 0.7866\n",
      "Epoch 2/10\n",
      "60000/60000 [==============================] - 5s 81us/step - loss: 0.1527 - acc: 0.9571\n",
      "Epoch 3/10\n",
      "60000/60000 [==============================] - 5s 81us/step - loss: 0.0903 - acc: 0.9729\n",
      "Epoch 4/10\n",
      "60000/60000 [==============================] - 5s 81us/step - loss: 0.0616 - acc: 0.9808\n",
      "Epoch 5/10\n",
      "60000/60000 [==============================] - 5s 81us/step - loss: 0.0455 - acc: 0.9860\n",
      "Epoch 6/10\n",
      "60000/60000 [==============================] - 5s 81us/step - loss: 0.0336 - acc: 0.9896\n",
      "Epoch 7/10\n",
      "60000/60000 [==============================] - 5s 81us/step - loss: 0.0264 - acc: 0.9912\n",
      "Epoch 8/10\n",
      "60000/60000 [==============================] - 5s 85us/step - loss: 0.0199 - acc: 0.9937\n",
      "Epoch 9/10\n",
      "60000/60000 [==============================] - 5s 82us/step - loss: 0.0150 - acc: 0.9952\n",
      "Epoch 10/10\n",
      "60000/60000 [==============================] - 5s 81us/step - loss: 0.0149 - acc: 0.9949\n",
      "0.9854\n"
     ]
    },
    {
     "data": {
      "text/plain": [
       "[<matplotlib.lines.Line2D at 0x209f634c048>]"
      ]
     },
     "execution_count": 54,
     "metadata": {},
     "output_type": "execute_result"
    },
    {
     "data": {
      "image/png": "[encoded data removed]",
      "text/plain": [
       "<Figure size 432x288 with 1 Axes>"
      ]
     },
     "metadata": {
      "needs_background": "light"
     },
     "output_type": "display_data"
    }
   ],
   "source": [
    "model_test_4 = Sequential()\n",
    "model_test_4.add(Conv2D(12, kernel_size=(3, 3), padding=\"same\", activation=\"relu\", input_shape=(28,28,1)))\n",
    "model_test_4.add(MaxPooling2D((2,2)))\n",
    "model_test_4.add(Conv2D(32, kernel_size=(3, 3), padding=\"same\", activation=\"relu\"))\n",
    "model_test_4.add(MaxPooling2D((2,2)))\n",
    "model_test_4.add(Conv2D(32, kernel_size=(3, 3), padding=\"same\", activation=\"relu\"))\n",
    "model_test_4.add(Flatten())\n",
    "model_test_4.add(Dense(120, activation=\"relu\"))\n",
    "model_test_4.add(Dense(84, activation=\"relu\"))\n",
    "model_test_4.add(Dense(10, activation=\"softmax\"))\n",
    "\n",
    "model_test_4.summary()\n",
    "\n",
    "adam = K.optimizers.Adam(lr=0.0001)\n",
    "model_test_4.compile(optimizer=adam, loss='categorical_crossentropy', metrics=['accuracy'])\n",
    "\n",
    "history_model_test_4 = model_test_4.fit(x_train, y_train, batch_size=64, epochs=10, shuffle=True)\n",
    "\n",
    "print(test_model(model_test_4))\n",
    "plt.title(\"history_model_test_4\")\n",
    "plt.plot(history_model_test_4.history['acc'], c='r')\n",
    "plt.plot(history_model_test_4.history['loss'], c='b')"
   ]
  },
  {
   "cell_type": "markdown",
   "metadata": {},
   "source": [
    "![](20190604164909.jpg,width=320, heigth=240)"
   ]
  },
  {
   "cell_type": "markdown",
   "metadata": {},
   "source": [
    "![](20190604170500-1.png)"
   ]
  },
  {
   "cell_type": "code",
   "execution_count": null,
   "metadata": {},
   "outputs": [],
   "source": []
  }
 ],
 "metadata": {
  "kernelspec": {
   "display_name": "Python 3",
   "language": "python",
   "name": "python3"
  },
  "language_info": {
   "codemirror_mode": {
    "name": "ipython",
    "version": 3
   },
   "file_extension": ".py",
   "mimetype": "text/x-python",
   "name": "python",
   "nbconvert_exporter": "python",
   "pygments_lexer": "ipython3",
   "version": "3.7.0"
  }
 },
 "nbformat": 4,
 "nbformat_minor": 1
}
